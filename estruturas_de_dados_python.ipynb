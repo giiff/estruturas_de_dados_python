{
 "cells": [
  {
   "cell_type": "markdown",
   "metadata": {},
   "source": [
    "# Estruturas de Dados\n",
    "\n",
    "*Ein gutes Gewissen ist ein sanftes Ruhekissen*\n",
    "\n",
    "*Uma consciência tranquila é um travesseiro macio*"
   ]
  },
  {
   "cell_type": "markdown",
   "metadata": {},
   "source": [
    "## Recursividade\n",
    "\n",
    "Características de um algoritmo recursivo:\n",
    "\n",
    "1. Quebrar o problema em subproblemas do mesmo tipo\n",
    "2. Cada subproblemas precisa ter tamanho menor que o problema original até não ser mais possível a decomposição do problema em subproblemas (condição de parada), \n",
    "3. Deve haver uma chamada recursiva à função\n",
    "\n",
    "Suponha que queiramos calcular uma sequência **S**, dada pela função **S(n) = n*2**. É possível chegar ao resultado iterativamente **S(1), S(2), ..., S(n)** (GERSTING, 2001). \n",
    "\n",
    "``\n",
    "S(inteiro n)\n",
    "inteiro i\n",
    "inteiro valorCorrente\n",
    "    se n = 1 então\n",
    "        retorne 2\n",
    "    senão\n",
    "        i = 2\n",
    "        valorCorrente = 2\n",
    "        enquanto i <= n faça\n",
    "            valorCorrente = 2*valorCorente\n",
    "            i = i + 1\n",
    "        retorne valorCorrente\n",
    "``\n",
    "\n",
    "Mas também é possível calcular **S(n)** usando diretamente uma definição recorrente de **S**.\n",
    "\n",
    "``\n",
    "S(inteiro n)\n",
    "    se n = 1 então\n",
    "        retorne 2\n",
    "    senão\n",
    "        retorne 2*S(n-1)\n",
    "``  \n",
    "\n",
    "GERSTING, Judith L. Fundamentos matemáticos para a ciência da computação. 5ª edição, LTC, 2001."
   ]
  },
  {
   "cell_type": "code",
   "execution_count": 1,
   "metadata": {},
   "outputs": [
    {
     "name": "stdout",
     "output_type": "stream",
     "text": [
      "\n",
      "Função iterativa\n",
      "\n",
      "1\n",
      "2\n",
      "3\n",
      "4\n",
      "5\n",
      "6\n",
      "7\n",
      "8\n",
      "9\n",
      "10\n",
      "\n",
      "Função recursiva\n",
      "\n",
      "1\n",
      "2\n",
      "3\n",
      "4\n",
      "5\n",
      "6\n",
      "7\n",
      "8\n",
      "9\n",
      "10\n",
      "n = 11: condição de parada alcançada!\n"
     ]
    }
   ],
   "source": [
    "# RECURSIVIDADE\n",
    "def f_iterativa(n): # definição da função\n",
    "    while n <= 10: #condicao de parada\n",
    "        print(n) # propósito da função\n",
    "        n = n + 1 # incremento de n\n",
    "\n",
    "def f_recursiva(n):\n",
    "    if n <= 10: # condição de parada\n",
    "        print(n)\n",
    "        f_recursiva(n + 1)\n",
    "    else:\n",
    "        print(f\"n = {n}: condição de parada alcançada!\")\n",
    "\n",
    "print(\"\\nFunção iterativa\\n\")\n",
    "f_iterativa(1)\n",
    "print(\"\\nFunção recursiva\\n\")\n",
    "f_recursiva(1)"
   ]
  },
  {
   "cell_type": "code",
   "execution_count": 2,
   "metadata": {},
   "outputs": [
    {
     "name": "stdout",
     "output_type": "stream",
     "text": [
      "10\n",
      "9\n",
      "8\n",
      "7\n",
      "6\n",
      "5\n",
      "4\n",
      "3\n",
      "2\n",
      "1\n",
      "Decolar!\n"
     ]
    }
   ],
   "source": [
    "# Contagem regressiva com recursividade\n",
    "def contagemRegressiva(n):\n",
    "    if n == 0:\n",
    "        print(\"Decolar!\")\n",
    "    else:\n",
    "        print(n)\n",
    "        contagemRegressiva(n-1)\n",
    "\n",
    "contagemRegressiva(10)"
   ]
  },
  {
   "cell_type": "code",
   "execution_count": 3,
   "metadata": {},
   "outputs": [
    {
     "name": "stdout",
     "output_type": "stream",
     "text": [
      "Informe o valor de n: 10\n",
      "O fatorial de 10 é 3628800\n",
      "O fatorial de 10 é 3628800\n"
     ]
    }
   ],
   "source": [
    "# Cálculo de fatorial iterativo e recursivo\n",
    "# O que seria fatorial?  3! = 3.2.1 = 6\n",
    "def fatorialIterativo(n):\n",
    "    resultado = 1\n",
    "    while n > 0:\n",
    "        resultado  = resultado * n\n",
    "        n = n - 1\n",
    "    return resultado\n",
    "\n",
    "def fatorialRecursivo(n):\n",
    "    if n == 0:\n",
    "        return 1\n",
    "    else:\n",
    "        return n * fatorialRecursivo(n-1)\n",
    "\n",
    "n = int(input(\"Informe o valor de n: \"))\n",
    "print(f\"O fatorial de {n} é {fatorialIterativo(n)}\")\n",
    "print(f\"O fatorial de {n} é {fatorialRecursivo(n)}\")"
   ]
  },
  {
   "cell_type": "code",
   "execution_count": 10,
   "metadata": {},
   "outputs": [
    {
     "name": "stdout",
     "output_type": "stream",
     "text": [
      "Informe o número de termos de Fibonacci:35\n",
      "Pronto!\n",
      "Tempo total: 4.692461729049683 segundos.\n"
     ]
    }
   ],
   "source": [
    "# Sequência de Fibonacci com recursividade\n",
    "'''\n",
    "Leonardo Fibonacci (Pisa-Itália, 1170-1250) foi um dos mais talentosos matemáticos da Idade Média.\n",
    "Ficou conhecido pela sequência de Fibonacci e pela sua participação na introdução dos algarismos hindu-arábicos na Europa.\n",
    "A sequência de Fibonacci é uma sequência de números inteiros, começando normalmente por 0 e 1.\n",
    "Cada termo subsequente corresponde à soma dos dois anteriores.\n",
    "Exemplo: 0 1 1 2 3 5 8 13\n",
    "'''\n",
    "   \n",
    "# Contando o tempo de execução para geração de 35 números de Fibonacci\n",
    "import time\n",
    "\n",
    "n = int(input(\"Informe o número de termos de Fibonacci:\"))\n",
    "\n",
    "def Fibonacci(n):\n",
    "    if n <= 1:\n",
    "        return n\n",
    "    else:\n",
    "        return (Fibonacci(n-1) + Fibonacci(n-2))\n",
    "\n",
    "inicio = time.time()\n",
    "for i in range(n):\n",
    "    Fibonacci(i)\n",
    "print(\"Pronto!\")\n",
    "final = time.time() - inicio\n",
    "print(f\"Tempo total: {final} segundos.\")    "
   ]
  },
  {
   "cell_type": "markdown",
   "metadata": {},
   "source": [
    "## Filas\n"
   ]
  },
  {
   "cell_type": "code",
   "execution_count": 14,
   "metadata": {},
   "outputs": [
    {
     "name": "stdout",
     "output_type": "stream",
     "text": [
      "Fila:  deque(['Abacate', 'Banana', 'Cupuaçu'])\n",
      "Abacate\n",
      "Adicionando um elemento:  deque(['Abacate', 'Banana', 'Cupuaçu', 'Tamarindo'])\n",
      "Abacate\n",
      "Removendo um elemento:  deque(['Banana', 'Cupuaçu', 'Tamarindo'])\n",
      "Banana\n"
     ]
    }
   ],
   "source": [
    "# Filas em Python3\n",
    "\n",
    "from collections import deque\n",
    "\n",
    "# Criando uma fila com três elementos\n",
    "fila = deque([\"Abacate\", \"Banana\", \"Cupuaçu\"])\n",
    "print(\"Fila: \", fila)\n",
    "print(fila[0])\n",
    "\n",
    "# Adiciona um elemento ao final da fila\n",
    "fila.append(\"Tamarindo\")\n",
    "print(\"Adicionando um elemento: \", fila)\n",
    "print(fila[0])\n",
    "\n",
    "# Remove o primeiro elemento adicionado à fila\n",
    "fila.popleft()\n",
    "print(\"Removendo um elemento: \", fila)\n",
    "\n",
    "print(fila[0])"
   ]
  },
  {
   "cell_type": "code",
   "execution_count": 15,
   "metadata": {},
   "outputs": [
    {
     "name": "stdout",
     "output_type": "stream",
     "text": [
      "deque([])\n",
      "deque([10])\n",
      "deque([10, 20])\n",
      "deque([10, 20, 30])\n",
      "deque([10, 20, 30, 40])\n",
      "deque([10, 20, 30, 40, 50])\n",
      "deque([20, 30, 40, 50])\n",
      "deque([30, 40, 50])\n",
      "deque([40, 50])\n",
      "deque([50])\n",
      "deque([])\n"
     ]
    }
   ],
   "source": [
    "# Exemplo com fila\n",
    "\n",
    "from collections import deque\n",
    "fila = deque([])\n",
    "\n",
    "print(fila)\n",
    "fila.append(10)\n",
    "print(fila)\n",
    "fila.append(20)\n",
    "print(fila)\n",
    "fila.append(30)\n",
    "print(fila)\n",
    "fila.append(40)\n",
    "print(fila)\n",
    "fila.append(50)\n",
    "print(fila)\n",
    "fila.popleft()\n",
    "print(fila)\n",
    "fila.popleft()\n",
    "print(fila)\n",
    "fila.popleft()\n",
    "print(fila)\n",
    "fila.popleft()\n",
    "print(fila)\n",
    "fila.popleft()\n",
    "print(fila)"
   ]
  },
  {
   "cell_type": "markdown",
   "metadata": {},
   "source": [
    "## Pilhas"
   ]
  },
  {
   "cell_type": "code",
   "execution_count": 17,
   "metadata": {},
   "outputs": [
    {
     "name": "stdout",
     "output_type": "stream",
     "text": [
      "Fila:  ['Abacate', 'Banana', 'Cupuaçu']\n",
      "Adicionado um elemento:  ['Abacate', 'Banana', 'Cupuaçu', 'Tamarindo']\n",
      "Removendo um elemento:  ['Abacate', 'Banana', 'Cupuaçu']\n"
     ]
    }
   ],
   "source": [
    "# Pilhas em Python3\n",
    "\n",
    "# Criando uma pilha (lista) com três elementos\n",
    "pilha = [\"Abacate\", \"Banana\", \"Cupuaçu\"]\n",
    "print(\"Fila: \", pilha)\n",
    "\n",
    "# Adiciona um elemento ao inicio da pilha\n",
    "pilha.append(\"Tamarindo\")\n",
    "print(\"Adicionado um elemento: \", pilha)\n",
    "\n",
    "# Remove o primeiro elemento adicionado à pilha\n",
    "pilha.pop()\n",
    "print(\"Removendo um elemento: \", pilha)"
   ]
  },
  {
   "cell_type": "code",
   "execution_count": 18,
   "metadata": {},
   "outputs": [
    {
     "name": "stdout",
     "output_type": "stream",
     "text": [
      "[]\n",
      "[10]\n",
      "[10, 20]\n",
      "[10, 20, 30]\n",
      "[10, 20, 30, 40]\n",
      "[10, 20, 30, 40, 50]\n",
      "[10, 20, 30, 40]\n",
      "[10, 20, 30]\n",
      "[10, 20]\n",
      "[10]\n",
      "[]\n"
     ]
    }
   ],
   "source": [
    "# Exemplo com pilhas\n",
    "pilha = []\n",
    "\n",
    "print(pilha)\n",
    "pilha.append(10)\n",
    "print(pilha)\n",
    "pilha.append(20)\n",
    "print(pilha)\n",
    "pilha.append(30)\n",
    "print(pilha)\n",
    "pilha.append(40)\n",
    "print(pilha)\n",
    "pilha.append(50)\n",
    "print(pilha)\n",
    "pilha.pop()\n",
    "print(pilha)\n",
    "pilha.pop()\n",
    "print(pilha)\n",
    "pilha.pop()\n",
    "print(pilha)\n",
    "pilha.pop()\n",
    "print(pilha)\n",
    "pilha.pop()\n",
    "print(pilha)"
   ]
  },
  {
   "cell_type": "markdown",
   "metadata": {},
   "source": [
    "## Algoritmos de ordenação\n",
    "\n",
    "[Animações dos algoritmos de ordenação](https://visualgo.net/bn/sorting)"
   ]
  },
  {
   "cell_type": "code",
   "execution_count": 5,
   "metadata": {},
   "outputs": [
    {
     "name": "stdout",
     "output_type": "stream",
     "text": [
      "Vetor original: [5, 4, 3, 2, 1]\n",
      "Vetor ordenado: [1, 2, 3, 4, 5]\n"
     ]
    }
   ],
   "source": [
    "# Ordenação por bolha (Bubble sort)\n",
    "def bubbleSort(lista):\n",
    "    for num in range(len(lista)-1,0,-1):\n",
    "        for i in range(num):\n",
    "            if lista[i] > lista[i+1]:\n",
    "                lista[i], lista[i+1] = lista[i+1], lista[i]\n",
    "\n",
    "lista = [5,4,3,2,1]\n",
    "print(f\"Vetor original: {lista}\")\n",
    "bubbleSort(lista)\n",
    "print(f\"Vetor ordenado: {lista}\")"
   ]
  },
  {
   "cell_type": "code",
   "execution_count": 6,
   "metadata": {},
   "outputs": [
    {
     "name": "stdout",
     "output_type": "stream",
     "text": [
      "Vetor original: [5, 4, 3, 2, 1]\n",
      "Vetor ordenado: [1, 2, 3, 4, 5]\n"
     ]
    }
   ],
   "source": [
    "# Ordenação por seleção\n",
    "def selectionSort(lista):\n",
    "    for posicao in range(len(lista)): \n",
    "        # Encontrar o menor elemento da lista \n",
    "        posicao_menor = posicao \n",
    "        for j in range(posicao+1, len(lista)): \n",
    "            if lista[posicao_menor] > lista[j]: \n",
    "                posicao_menor = j \n",
    "        # Trocar o menor elemento da lista com a posição mais à esquerda ainda não ordenada         \n",
    "        lista[posicao], lista[posicao_menor] = lista[posicao_menor], lista[posicao] \n",
    "\n",
    "lista = [5,4,3,2,1]\n",
    "print(f\"Vetor original: {lista}\")\n",
    "selectionSort(lista)\n",
    "print(f\"Vetor ordenado: {lista}\")        "
   ]
  },
  {
   "cell_type": "code",
   "execution_count": 7,
   "metadata": {},
   "outputs": [
    {
     "name": "stdout",
     "output_type": "stream",
     "text": [
      "Vetor original: [5, 4, 3, 2, 1]\n",
      "Vetor ordenado: [1, 2, 3, 4, 5]\n"
     ]
    }
   ],
   "source": [
    "# Ordenação por inserção\n",
    "def insertionSort(lista):\n",
    "    for posicao in range(1, len(lista)): \n",
    "        key = lista[posicao] \n",
    "        # Mover todos os elementos da lista [0..posicao-1] que são maiores que o elemento da vez para as posições à frente dele\n",
    "        j = posicao-1\n",
    "        while j >= 0 and key < lista[j] : \n",
    "                lista[j+1] = lista[j] \n",
    "                j -= 1\n",
    "        lista[j+1] = key \n",
    "\n",
    "lista = [5,4,3,2,1]\n",
    "print(f\"Vetor original: {lista}\")\n",
    "insertionSort(lista)\n",
    "print(f\"Vetor ordenado: {lista}\")         "
   ]
  },
  {
   "cell_type": "code",
   "execution_count": 11,
   "metadata": {},
   "outputs": [
    {
     "name": "stdout",
     "output_type": "stream",
     "text": [
      "Vetor original: [5, 4, 3, 2, 1]\n",
      "Vetor ordenado: [1, 2, 3, 4, 5]\n"
     ]
    }
   ],
   "source": [
    "###############################################################################\n",
    "# Merge Sort\n",
    "# O vetor é dividido de forma recursiva meio a meio até que haja apenas um elemento;\n",
    "# Os elementos de cada metade são comparados e ordenados;\n",
    "# Usa vetores auxiliares (esquerda e direita) para guardar as metades ordenadas = (maior gasto de memória)\n",
    "###############################################################################\n",
    "def mergesort(lista):\n",
    "    if len(lista) < 2:\n",
    "        return\n",
    "    else:\n",
    "        meio = len(lista) // 2\n",
    "        esquerda = lista[:meio]\n",
    "        direita = lista[meio:]\n",
    "        mergesort(esquerda)\n",
    "        mergesort(direita)\n",
    "        p = 0\n",
    "        q = 0\n",
    "        r = 0\n",
    "        while p < len(esquerda) and q < len(direita):\n",
    "            if esquerda[p] < direita[q]:\n",
    "                lista[r] = esquerda[p]\n",
    "                p += 1\n",
    "            else:\n",
    "                lista[r] = direita[q]\n",
    "                q += 1\n",
    "            r += 1\n",
    "        while p < len(esquerda):\n",
    "            lista[r] = esquerda[p]\n",
    "            p += 1\n",
    "            r += 1\n",
    "        while q < len(direita):\n",
    "            lista[r] = direita[q]\n",
    "            q += 1\n",
    "            r += 1\n",
    "\n",
    "lista = [5,4,3,2,1]\n",
    "print(f\"Vetor original: {lista}\")\n",
    "mergesort(lista)\n",
    "print(f\"Vetor ordenado: {lista}\")"
   ]
  },
  {
   "cell_type": "code",
   "execution_count": 13,
   "metadata": {},
   "outputs": [
    {
     "name": "stdout",
     "output_type": "stream",
     "text": [
      "Vetor original: [5, 4, 3, 2, 1]\n",
      "Vetor ordenado: [1, 4, 3, 2, 5]\n"
     ]
    }
   ],
   "source": [
    "###############################################################################\n",
    "# Quick Sort\n",
    "###############################################################################\n",
    "def particionar(lista):\n",
    "    pivo = 0\n",
    "    for i in range(1, len(lista)):\n",
    "        if lista[i]<=lista[0]:\n",
    "            pivo += 1\n",
    "            lista[pivo], lista[i] = lista[i], lista[pivo]\n",
    "    lista[pivo], lista[0] = lista[0], lista[pivo]\n",
    "    return pivo\n",
    "\n",
    "def quicksort(lista):\n",
    "    if len(lista) < 2:\n",
    "        return lista\n",
    "    i = particionar(lista)  # i: posicao do pivo\n",
    "    esquerda = quicksort(lista[:i])\n",
    "    direita = quicksort(lista[i + 1:])\n",
    "    pivo = lista[i]\n",
    "    return esquerda + [pivo] + direita\n",
    "\n",
    "lista = [5,4,3,2,1]\n",
    "print(f\"Vetor original: {lista}\")\n",
    "quicksort(lista)\n",
    "print(f\"Vetor ordenado: {lista}\")"
   ]
  },
  {
   "cell_type": "markdown",
   "metadata": {},
   "source": [
    "## Orientação a objetos básica em Python"
   ]
  },
  {
   "cell_type": "code",
   "execution_count": 39,
   "metadata": {},
   "outputs": [
    {
     "name": "stdout",
     "output_type": "stream",
     "text": [
      "Marca:VW\n",
      "Modelo:Polo\n",
      "Motor:1.6\n"
     ]
    }
   ],
   "source": [
    "class Carro:\n",
    "    def __init__(self, marcaDoCarro=None, modelo=None, motor=None):\n",
    "        self.marca = marcaDoCarro\n",
    "        self.modelo = modelo\n",
    "        self.motor = motor\n",
    "    def __repr__(self):\n",
    "        return f\"Marca:{self.marca}\\nModelo:{self.modelo}\\nMotor:{self.motor}\"\n",
    "\n",
    "a = Carro( \"VW\", \"Polo\", \"1.6\" )\n",
    "\n",
    "print(a)"
   ]
  },
  {
   "cell_type": "markdown",
   "metadata": {},
   "source": [
    "## Árvores Binárias"
   ]
  },
  {
   "cell_type": "code",
   "execution_count": 75,
   "metadata": {},
   "outputs": [],
   "source": [
    "# Criando um novo tipo de dados em Python, o nó que contem um valor e outros nós à esquerda e à direita\n",
    "from graphviz import Digraph # biblioteca graphviz\n",
    "class No:\n",
    "    def __init__( self, valor = None, esquerda = None, direita = None ):\n",
    "        self.valor = valor\n",
    "        self.esquerda = esquerda\n",
    "        self.direita = direita\n",
    "\n",
    "    def verArvore(self, raiz):\n",
    "        \"\"\"\n",
    "        Método para visualização gráfica da árvore usando a biblioteca graphviz\n",
    "        \"\"\"\n",
    "        def adicionar_nos_arestas(raiz, dot = None):\n",
    "            # Create Digraph object\n",
    "            if dot is None:\n",
    "                dot = Digraph()\n",
    "                dot.node(name = str(raiz), label = str(raiz.valor))\n",
    "            # Add nodes\n",
    "            if raiz.esquerda:\n",
    "                dot.node(name=str(raiz.esquerda) ,label=str(raiz.esquerda.valor))\n",
    "                dot.edge(str(raiz), str(raiz.esquerda)+\":ne\")\n",
    "                dot = adicionar_nos_arestas(raiz.esquerda, dot = dot)\n",
    "\n",
    "            if raiz.direita:\n",
    "                dot.node(name = str(raiz.direita) ,label = str(raiz.direita.valor))\n",
    "                dot.edge(str(raiz), str(raiz.direita)+\":nw\")\n",
    "                dot = adicionar_nos_arestas(raiz.direita, dot = dot)\n",
    "            return dot\n",
    "        # Adiciona recursivamente nós e cria uma lista de arestas\n",
    "        dot = adicionar_nos_arestas(raiz)\n",
    "        # retorna a visualização\n",
    "        return dot"
   ]
  },
  {
   "cell_type": "code",
   "execution_count": 77,
   "metadata": {},
   "outputs": [
    {
     "data": {
      "image/svg+xml": [
       "<?xml version=\"1.0\" encoding=\"UTF-8\" standalone=\"no\"?>\n",
       "<!DOCTYPE svg PUBLIC \"-//W3C//DTD SVG 1.1//EN\"\n",
       " \"http://www.w3.org/Graphics/SVG/1.1/DTD/svg11.dtd\">\n",
       "<!-- Generated by graphviz version 2.42.3 (20191010.1750)\n",
       " -->\n",
       "<!-- Title: %3 Pages: 1 -->\n",
       "<svg width=\"170pt\" height=\"188pt\"\n",
       " viewBox=\"0.00 0.00 170.00 188.00\" xmlns=\"http://www.w3.org/2000/svg\" xmlns:xlink=\"http://www.w3.org/1999/xlink\">\n",
       "<g id=\"graph0\" class=\"graph\" transform=\"scale(1 1) rotate(0) translate(4 184)\">\n",
       "<title>%3</title>\n",
       "<polygon fill=\"white\" stroke=\"transparent\" points=\"-4,4 -4,-184 166,-184 166,4 -4,4\"/>\n",
       "<!-- __main__.No object at 0x7ff9a6f21358 -->\n",
       "<g id=\"node1\" class=\"node\">\n",
       "<title>__main__.No object at 0x7ff9a6f21358</title>\n",
       "<ellipse fill=\"none\" stroke=\"black\" cx=\"99\" cy=\"-162\" rx=\"27\" ry=\"18\"/>\n",
       "<text text-anchor=\"middle\" x=\"99\" y=\"-158.3\" font-family=\"Times,serif\" font-size=\"14.00\">5</text>\n",
       "</g>\n",
       "<!-- __main__.No object at 0x7ff9a77e82e8 -->\n",
       "<g id=\"node2\" class=\"node\">\n",
       "<title>__main__.No object at 0x7ff9a77e82e8</title>\n",
       "<ellipse fill=\"none\" stroke=\"black\" cx=\"63\" cy=\"-90\" rx=\"27\" ry=\"18\"/>\n",
       "<text text-anchor=\"middle\" x=\"63\" y=\"-86.3\" font-family=\"Times,serif\" font-size=\"14.00\">3</text>\n",
       "</g>\n",
       "<!-- __main__.No object at 0x7ff9a6f21358&#45;&gt;__main__.No object at 0x7ff9a77e82e8 -->\n",
       "<g id=\"edge1\" class=\"edge\">\n",
       "<title>__main__.No object at 0x7ff9a6f21358&#45;&gt;__main__.No object at 0x7ff9a77e82e8:ne</title>\n",
       "<path fill=\"none\" stroke=\"black\" d=\"M96.26,-143.84C94.17,-134.65 90.55,-123.33 84.39,-113.95\"/>\n",
       "<polygon fill=\"black\" stroke=\"black\" points=\"87,-111.6 78,-106 81.54,-115.99 87,-111.6\"/>\n",
       "</g>\n",
       "<!-- __main__.No object at 0x7ff9a6f216d8 -->\n",
       "<g id=\"node5\" class=\"node\">\n",
       "<title>__main__.No object at 0x7ff9a6f216d8</title>\n",
       "<ellipse fill=\"none\" stroke=\"black\" cx=\"135\" cy=\"-90\" rx=\"27\" ry=\"18\"/>\n",
       "<text text-anchor=\"middle\" x=\"135\" y=\"-86.3\" font-family=\"Times,serif\" font-size=\"14.00\">6</text>\n",
       "</g>\n",
       "<!-- __main__.No object at 0x7ff9a6f21358&#45;&gt;__main__.No object at 0x7ff9a6f216d8 -->\n",
       "<g id=\"edge4\" class=\"edge\">\n",
       "<title>__main__.No object at 0x7ff9a6f21358&#45;&gt;__main__.No object at 0x7ff9a6f216d8:nw</title>\n",
       "<path fill=\"none\" stroke=\"black\" d=\"M101.74,-143.84C103.83,-134.65 107.45,-123.33 113.61,-113.95\"/>\n",
       "<polygon fill=\"black\" stroke=\"black\" points=\"116.46,-115.99 120,-106 111,-111.6 116.46,-115.99\"/>\n",
       "</g>\n",
       "<!-- __main__.No object at 0x7ff9b70cd9b0 -->\n",
       "<g id=\"node3\" class=\"node\">\n",
       "<title>__main__.No object at 0x7ff9b70cd9b0</title>\n",
       "<ellipse fill=\"none\" stroke=\"black\" cx=\"27\" cy=\"-18\" rx=\"27\" ry=\"18\"/>\n",
       "<text text-anchor=\"middle\" x=\"27\" y=\"-14.3\" font-family=\"Times,serif\" font-size=\"14.00\">1</text>\n",
       "</g>\n",
       "<!-- __main__.No object at 0x7ff9a77e82e8&#45;&gt;__main__.No object at 0x7ff9b70cd9b0 -->\n",
       "<g id=\"edge2\" class=\"edge\">\n",
       "<title>__main__.No object at 0x7ff9a77e82e8&#45;&gt;__main__.No object at 0x7ff9b70cd9b0:ne</title>\n",
       "<path fill=\"none\" stroke=\"black\" d=\"M60.26,-71.84C58.17,-62.65 54.55,-51.33 48.39,-41.95\"/>\n",
       "<polygon fill=\"black\" stroke=\"black\" points=\"51,-39.6 42,-34 45.54,-43.99 51,-39.6\"/>\n",
       "</g>\n",
       "<!-- __main__.No object at 0x7ff9a6f210f0 -->\n",
       "<g id=\"node4\" class=\"node\">\n",
       "<title>__main__.No object at 0x7ff9a6f210f0</title>\n",
       "<ellipse fill=\"none\" stroke=\"black\" cx=\"99\" cy=\"-18\" rx=\"27\" ry=\"18\"/>\n",
       "<text text-anchor=\"middle\" x=\"99\" y=\"-14.3\" font-family=\"Times,serif\" font-size=\"14.00\">4</text>\n",
       "</g>\n",
       "<!-- __main__.No object at 0x7ff9a77e82e8&#45;&gt;__main__.No object at 0x7ff9a6f210f0 -->\n",
       "<g id=\"edge3\" class=\"edge\">\n",
       "<title>__main__.No object at 0x7ff9a77e82e8&#45;&gt;__main__.No object at 0x7ff9a6f210f0:nw</title>\n",
       "<path fill=\"none\" stroke=\"black\" d=\"M65.74,-71.84C67.83,-62.65 71.45,-51.33 77.61,-41.95\"/>\n",
       "<polygon fill=\"black\" stroke=\"black\" points=\"80.46,-43.99 84,-34 75,-39.6 80.46,-43.99\"/>\n",
       "</g>\n",
       "</g>\n",
       "</svg>\n"
      ],
      "text/plain": [
       "<graphviz.dot.Digraph at 0x7ff9a6f217b8>"
      ]
     },
     "execution_count": 77,
     "metadata": {},
     "output_type": "execute_result"
    }
   ],
   "source": [
    "# Exemplo de árvore binária utilizando a classe acima\n",
    "\n",
    "#cria a árvore no por nó a partir de um nó inicial (raiz)\n",
    "raiz = No(5)\n",
    "raiz.esquerda = No(3)\n",
    "raiz.esquerda.esquerda = No(1)\n",
    "raiz.esquerda.direita = No(4)\n",
    "raiz.direita = No(6)\n",
    "# Gera a imagem da árvora usando a bilioteca graphviz\n",
    "raiz.verArvore(raiz)"
   ]
  },
  {
   "cell_type": "markdown",
   "metadata": {},
   "source": [
    "No exemplo anterior, os valores foram inseridos na árvore de forma que suas posições foram manualmnte escolhidas com base nos valores. \n",
    "\n",
    "Vamos agora criar um método para inserir valores nas corretas posições sem interferência manual."
   ]
  },
  {
   "cell_type": "code",
   "execution_count": 85,
   "metadata": {},
   "outputs": [
    {
     "data": {
      "image/svg+xml": [
       "<?xml version=\"1.0\" encoding=\"UTF-8\" standalone=\"no\"?>\n",
       "<!DOCTYPE svg PUBLIC \"-//W3C//DTD SVG 1.1//EN\"\n",
       " \"http://www.w3.org/Graphics/SVG/1.1/DTD/svg11.dtd\">\n",
       "<!-- Generated by graphviz version 2.42.3 (20191010.1750)\n",
       " -->\n",
       "<!-- Title: %3 Pages: 1 -->\n",
       "<svg width=\"200pt\" height=\"332pt\"\n",
       " viewBox=\"0.00 0.00 200.00 332.00\" xmlns=\"http://www.w3.org/2000/svg\" xmlns:xlink=\"http://www.w3.org/1999/xlink\">\n",
       "<g id=\"graph0\" class=\"graph\" transform=\"scale(1 1) rotate(0) translate(4 328)\">\n",
       "<title>%3</title>\n",
       "<polygon fill=\"white\" stroke=\"transparent\" points=\"-4,4 -4,-328 196,-328 196,4 -4,4\"/>\n",
       "<!-- __main__.No object at 0x7ff9a6f31390 -->\n",
       "<g id=\"node1\" class=\"node\">\n",
       "<title>__main__.No object at 0x7ff9a6f31390</title>\n",
       "<ellipse fill=\"none\" stroke=\"black\" cx=\"129\" cy=\"-306\" rx=\"27\" ry=\"18\"/>\n",
       "<text text-anchor=\"middle\" x=\"129\" y=\"-302.3\" font-family=\"Times,serif\" font-size=\"14.00\">3</text>\n",
       "</g>\n",
       "<!-- __main__.No object at 0x7ff9b70cd5c0 -->\n",
       "<g id=\"node2\" class=\"node\">\n",
       "<title>__main__.No object at 0x7ff9b70cd5c0</title>\n",
       "<ellipse fill=\"none\" stroke=\"black\" cx=\"93\" cy=\"-234\" rx=\"27\" ry=\"18\"/>\n",
       "<text text-anchor=\"middle\" x=\"93\" y=\"-230.3\" font-family=\"Times,serif\" font-size=\"14.00\">3</text>\n",
       "</g>\n",
       "<!-- __main__.No object at 0x7ff9a6f31390&#45;&gt;__main__.No object at 0x7ff9b70cd5c0 -->\n",
       "<g id=\"edge1\" class=\"edge\">\n",
       "<title>__main__.No object at 0x7ff9a6f31390&#45;&gt;__main__.No object at 0x7ff9b70cd5c0:ne</title>\n",
       "<path fill=\"none\" stroke=\"black\" d=\"M126.26,-287.84C124.17,-278.65 120.55,-267.33 114.39,-257.95\"/>\n",
       "<polygon fill=\"black\" stroke=\"black\" points=\"117,-255.6 108,-250 111.54,-259.99 117,-255.6\"/>\n",
       "</g>\n",
       "<!-- __main__.No object at 0x7ff9a6f21e10 -->\n",
       "<g id=\"node7\" class=\"node\">\n",
       "<title>__main__.No object at 0x7ff9a6f21e10</title>\n",
       "<ellipse fill=\"none\" stroke=\"black\" cx=\"165\" cy=\"-234\" rx=\"27\" ry=\"18\"/>\n",
       "<text text-anchor=\"middle\" x=\"165\" y=\"-230.3\" font-family=\"Times,serif\" font-size=\"14.00\">10</text>\n",
       "</g>\n",
       "<!-- __main__.No object at 0x7ff9a6f31390&#45;&gt;__main__.No object at 0x7ff9a6f21e10 -->\n",
       "<g id=\"edge6\" class=\"edge\">\n",
       "<title>__main__.No object at 0x7ff9a6f31390&#45;&gt;__main__.No object at 0x7ff9a6f21e10:nw</title>\n",
       "<path fill=\"none\" stroke=\"black\" d=\"M131.74,-287.84C133.83,-278.65 137.45,-267.33 143.61,-257.95\"/>\n",
       "<polygon fill=\"black\" stroke=\"black\" points=\"146.46,-259.99 150,-250 141,-255.6 146.46,-259.99\"/>\n",
       "</g>\n",
       "<!-- __main__.No object at 0x7ff9b70cdd30 -->\n",
       "<g id=\"node3\" class=\"node\">\n",
       "<title>__main__.No object at 0x7ff9b70cdd30</title>\n",
       "<ellipse fill=\"none\" stroke=\"black\" cx=\"78\" cy=\"-162\" rx=\"27\" ry=\"18\"/>\n",
       "<text text-anchor=\"middle\" x=\"78\" y=\"-158.3\" font-family=\"Times,serif\" font-size=\"14.00\">1</text>\n",
       "</g>\n",
       "<!-- __main__.No object at 0x7ff9b70cd5c0&#45;&gt;__main__.No object at 0x7ff9b70cdd30 -->\n",
       "<g id=\"edge2\" class=\"edge\">\n",
       "<title>__main__.No object at 0x7ff9b70cd5c0&#45;&gt;__main__.No object at 0x7ff9b70cdd30:ne</title>\n",
       "<path fill=\"none\" stroke=\"black\" d=\"M98.58,-216.21C100.75,-207.08 101.98,-195.81 98.5,-186.63\"/>\n",
       "<polygon fill=\"black\" stroke=\"black\" points=\"101.32,-184.55 93,-178 95.42,-188.31 101.32,-184.55\"/>\n",
       "</g>\n",
       "<!-- __main__.No object at 0x7ff9a6f316a0 -->\n",
       "<g id=\"node4\" class=\"node\">\n",
       "<title>__main__.No object at 0x7ff9a6f316a0</title>\n",
       "<ellipse fill=\"none\" stroke=\"black\" cx=\"42\" cy=\"-90\" rx=\"27\" ry=\"18\"/>\n",
       "<text text-anchor=\"middle\" x=\"42\" y=\"-86.3\" font-family=\"Times,serif\" font-size=\"14.00\">&#45;1</text>\n",
       "</g>\n",
       "<!-- __main__.No object at 0x7ff9b70cdd30&#45;&gt;__main__.No object at 0x7ff9a6f316a0 -->\n",
       "<g id=\"edge3\" class=\"edge\">\n",
       "<title>__main__.No object at 0x7ff9b70cdd30&#45;&gt;__main__.No object at 0x7ff9a6f316a0:ne</title>\n",
       "<path fill=\"none\" stroke=\"black\" d=\"M75.26,-143.84C73.17,-134.65 69.55,-123.33 63.39,-113.95\"/>\n",
       "<polygon fill=\"black\" stroke=\"black\" points=\"66,-111.6 57,-106 60.54,-115.99 66,-111.6\"/>\n",
       "</g>\n",
       "<!-- __main__.No object at 0x7ff9b70cdbe0 -->\n",
       "<g id=\"node6\" class=\"node\">\n",
       "<title>__main__.No object at 0x7ff9b70cdbe0</title>\n",
       "<ellipse fill=\"none\" stroke=\"black\" cx=\"114\" cy=\"-90\" rx=\"27\" ry=\"18\"/>\n",
       "<text text-anchor=\"middle\" x=\"114\" y=\"-86.3\" font-family=\"Times,serif\" font-size=\"14.00\">2</text>\n",
       "</g>\n",
       "<!-- __main__.No object at 0x7ff9b70cdd30&#45;&gt;__main__.No object at 0x7ff9b70cdbe0 -->\n",
       "<g id=\"edge5\" class=\"edge\">\n",
       "<title>__main__.No object at 0x7ff9b70cdd30&#45;&gt;__main__.No object at 0x7ff9b70cdbe0:nw</title>\n",
       "<path fill=\"none\" stroke=\"black\" d=\"M80.74,-143.84C82.83,-134.65 86.45,-123.33 92.61,-113.95\"/>\n",
       "<polygon fill=\"black\" stroke=\"black\" points=\"95.46,-115.99 99,-106 90,-111.6 95.46,-115.99\"/>\n",
       "</g>\n",
       "<!-- __main__.No object at 0x7ff9a6f31320 -->\n",
       "<g id=\"node5\" class=\"node\">\n",
       "<title>__main__.No object at 0x7ff9a6f31320</title>\n",
       "<ellipse fill=\"none\" stroke=\"black\" cx=\"27\" cy=\"-18\" rx=\"27\" ry=\"18\"/>\n",
       "<text text-anchor=\"middle\" x=\"27\" y=\"-14.3\" font-family=\"Times,serif\" font-size=\"14.00\">&#45;2</text>\n",
       "</g>\n",
       "<!-- __main__.No object at 0x7ff9a6f316a0&#45;&gt;__main__.No object at 0x7ff9a6f31320 -->\n",
       "<g id=\"edge4\" class=\"edge\">\n",
       "<title>__main__.No object at 0x7ff9a6f316a0&#45;&gt;__main__.No object at 0x7ff9a6f31320:ne</title>\n",
       "<path fill=\"none\" stroke=\"black\" d=\"M47.58,-72.21C49.75,-63.08 50.98,-51.81 47.5,-42.63\"/>\n",
       "<polygon fill=\"black\" stroke=\"black\" points=\"50.32,-40.55 42,-34 44.42,-44.31 50.32,-40.55\"/>\n",
       "</g>\n",
       "</g>\n",
       "</svg>\n"
      ],
      "text/plain": [
       "<graphviz.dot.Digraph at 0x7ff9a6f216d8>"
      ]
     },
     "execution_count": 85,
     "metadata": {},
     "output_type": "execute_result"
    }
   ],
   "source": [
    "# Criando um método para inserção de valores informados pelo usuário na árvore\n",
    "class No:\n",
    "    def __init__( self, valor = None, esquerda = None, direita = None ):\n",
    "        \"\"\"\n",
    "        Método construtor da classe\n",
    "        \"\"\"\n",
    "        self.valor = valor\n",
    "        self.esquerda = esquerda\n",
    "        self.direita = direita\n",
    "\n",
    "    def verArvore(self, raiz):\n",
    "        \"\"\"\n",
    "        Método para visualização gráfica da árvore usando a biblioteca graphviz\n",
    "        \"\"\"\n",
    "        def adicionar_nos_arestas(raiz, dot = None):\n",
    "            # Create Digraph object\n",
    "            if dot is None:\n",
    "                dot = Digraph()\n",
    "                dot.node(name = str(raiz), label = str(raiz.valor))\n",
    "            # Add nodes\n",
    "            if raiz.esquerda:\n",
    "                dot.node(name=str(raiz.esquerda) ,label=str(raiz.esquerda.valor))\n",
    "                dot.edge(str(raiz), str(raiz.esquerda)+\":ne\")\n",
    "                dot = adicionar_nos_arestas(raiz.esquerda, dot = dot)\n",
    "\n",
    "            if raiz.direita:\n",
    "                dot.node(name = str(raiz.direita) ,label = str(raiz.direita.valor))\n",
    "                dot.edge(str(raiz), str(raiz.direita)+\":nw\")\n",
    "                dot = adicionar_nos_arestas(raiz.direita, dot = dot)\n",
    "            return dot\n",
    "        # Adiciona recursivamente nós e cria uma lista de arestas\n",
    "        dot = adicionar_nos_arestas(raiz)\n",
    "        # retorna a visualização\n",
    "        return dot\n",
    "    \n",
    "    def inserir(raiz, no):\n",
    "        if raiz is None:\n",
    "            raiz = no\n",
    "        elif  no.valor > raiz.valor: # lado direito\n",
    "            if raiz.direita is None:\n",
    "                raiz.direita = no\n",
    "            else:\n",
    "                inserir(raiz.direita, no)\n",
    "        else: # lado esquerdo\n",
    "            if raiz.esquerda is None:\n",
    "                raiz.esquerda = no\n",
    "            else:\n",
    "                inserir(raiz.esquerda, no)\n",
    "\n",
    "\n",
    "# Testando a inserção automática\n",
    "raiz = No(3)\n",
    "for valor in [10, 3, 1, 2, -1, -2]:\n",
    "    no = No(valor)\n",
    "    inserir(raiz, no)\n",
    "\n",
    "raiz.verArvore(raiz)   "
   ]
  }
 ],
 "metadata": {
  "kernelspec": {
   "display_name": "Python 3",
   "language": "python",
   "name": "python3"
  },
  "language_info": {
   "codemirror_mode": {
    "name": "ipython",
    "version": 3
   },
   "file_extension": ".py",
   "mimetype": "text/x-python",
   "name": "python",
   "nbconvert_exporter": "python",
   "pygments_lexer": "ipython3",
   "version": "3.6.13"
  }
 },
 "nbformat": 4,
 "nbformat_minor": 4
}
